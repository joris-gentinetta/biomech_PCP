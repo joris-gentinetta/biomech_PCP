{
 "cells": [
  {
   "cell_type": "code",
   "execution_count": null,
   "id": "64ad9368",
   "metadata": {},
   "outputs": [],
   "source": [
    "import glob\n",
    "import os\n",
    "from pathlib import Path\n",
    "\n",
    "import yaml\n",
    "from deepdiff import DeepDiff\n",
    "from utils import (\n",
    "    amputees,\n",
    "    channel_names,\n",
    "    intact,\n",
    "    participants,\n",
    "    recordings,\n",
    "    targets,\n",
    "    test_recordings,\n",
    ")"
   ]
  },
  {
   "cell_type": "code",
   "execution_count": null,
   "id": "beded93d",
   "metadata": {},
   "outputs": [],
   "source": [
    "paper_plots_path = Path(\"/Users/jorisg/Desktop/upper_limb/paper_figures_revision\")\n",
    "base_dir = Path().resolve().parent"
   ]
  },
  {
   "cell_type": "code",
   "execution_count": null,
   "id": "069e0d32",
   "metadata": {},
   "outputs": [],
   "source": [
    "import matplotlib.pyplot as plt\n",
    "import numpy as np\n",
    "\n",
    "x = np.linspace(-10, 10, 500)\n",
    "softplus = np.log1p(np.exp(x))  # log(1 + exp(x))\n",
    "\n",
    "plt.figure(figsize=(8, 5))\n",
    "plt.plot(x, softplus, label=\"softplus(x)\", linewidth=2)\n",
    "plt.title(\"Softplus Activation Function\")\n",
    "plt.xlabel(\"x\")\n",
    "plt.ylabel(\"softplus(x)\")\n",
    "plt.grid(True)\n",
    "plt.legend()\n",
    "plt.show()\n"
   ]
  },
  {
   "cell_type": "markdown",
   "id": "c5d5a7e7",
   "metadata": {},
   "source": [
    "-> P7_453 is Right, all others are Left\n"
   ]
  },
  {
   "cell_type": "code",
   "execution_count": null,
   "id": "621b1500",
   "metadata": {},
   "outputs": [],
   "source": [
    "base_config_path = base_dir / \"data/<person_ID>/configs/modular_initialization.yaml\"\n",
    "with open(base_config_path, \"r\") as f:\n",
    "    base_config_template = yaml.safe_load(f)\n",
    "\n",
    "base_config_template[\"parameters\"][\"activation_model\"] = {\n",
    "    \"parameters\": {\n",
    "        \"enforce_positive_weights\": {\"values\": [False, True]},\n",
    "        \"model_type\": {\"value\": \"MatMul\"},\n",
    "        \"n_freeze_epochs\": {\"value\": 0},\n",
    "        \"init\": {\"values\": [\"default\", \"xavier_normal\"]},\n",
    "    }\n",
    "}\n",
    "base_config_template[\"parameters\"][\"wandb_project\"][\"value\"] = (\n",
    "    \"model_comparison_experiments\"\n",
    ")\n",
    "base_config_template[\"parameters\"][\"learning_rate\"][\"values\"] = [\n",
    "    0.1,\n",
    "    0.01,\n",
    "    0.001,\n",
    "    0.0001,\n",
    "]\n",
    "base_config_template[\"parameters\"][\"learning_rate\"].pop(\"value\", None)\n",
    "\n",
    "base_config_template[\"parameters\"][\"dummy_repetition\"][\"value\"] = 1\n",
    "base_config_template[\"parameters\"][\"dummy_repetition\"].pop(\"values\", None)\n",
    "\n",
    "for participant in participants:\n",
    "    participant_config_path = (\n",
    "        base_dir / f\"data/{participant}/configs/modular_MatMul.yaml\"\n",
    "    )\n",
    "\n",
    "    base_config = base_config_template.copy()\n",
    "    base_config[\"name\"] = participant\n",
    "\n",
    "    if participant == \"P7_453\":\n",
    "        base_config[\"parameters\"][\"targets\"][\"value\"] = [\n",
    "            [\"Right\", joint]\n",
    "            for _, joint in base_config[\"parameters\"][\"targets\"][\"value\"]\n",
    "        ]\n",
    "    else:\n",
    "        base_config[\"parameters\"][\"targets\"][\"value\"] = [\n",
    "            [\"Left\", joint]\n",
    "            for _, joint in base_config[\"parameters\"][\"targets\"][\"value\"]\n",
    "        ]\n",
    "    with open(participant_config_path, \"w\") as f:\n",
    "        yaml.dump(base_config, f)\n",
    "    print(f\"Copied config to {participant_config_path}\")\n"
   ]
  },
  {
   "cell_type": "code",
   "execution_count": null,
   "id": "dd7a69c7",
   "metadata": {},
   "outputs": [],
   "source": [
    "import subprocess\n",
    "\n",
    "for participant in participants:\n",
    "    hand = \"Right\" if participant == \"P7_453\" else \"Left\"\n",
    "    print(f\"Running training for {participant} with intact hand {hand}\")\n",
    "\n",
    "    # Run the command using subprocess\n",
    "    subprocess.run(\n",
    "        [\n",
    "            \"python\",\n",
    "            base_dir / \"s4_train.py\",\n",
    "            \"--person_dir\",\n",
    "            participant,\n",
    "            \"--intact_hand\",\n",
    "            hand,\n",
    "            \"--config_name\",\n",
    "            \"modular_MatMul\",\n",
    "            \"-hs\",\n",
    "        ],\n",
    "        cwd=base_dir,\n",
    "    )\n"
   ]
  },
  {
   "cell_type": "code",
   "execution_count": null,
   "id": "a4ce18be",
   "metadata": {},
   "outputs": [],
   "source": [
    "import pandas as pd\n",
    "\n",
    "import wandb\n",
    "\n",
    "api = wandb.Api()\n",
    "\n",
    "# Project is specified by <entity/project-name>\n",
    "runs = api.runs(\"MIT_biomech/initialization_experiments\")\n",
    "\n",
    "summary_list, config_list, name_list = [], [], []\n",
    "for run in runs:\n",
    "    # .summary contains the output keys/values for metrics like accuracy.\n",
    "    #  We call ._json_dict to omit large files\n",
    "    summary_list.append(run.summary._json_dict)\n",
    "\n",
    "    # .config contains the hyperparameters.\n",
    "    #  We remove special values that start with _.\n",
    "    config_list.append({k: v for k, v in run.config.items() if not k.startswith(\"_\")})\n",
    "\n",
    "    # .name is the human-readable name of the run.\n",
    "    name_list.append(run.name)\n",
    "\n",
    "runs_df = pd.DataFrame(\n",
    "    {\"summary\": summary_list, \"config\": config_list, \"name\": name_list}\n",
    ")\n",
    "\n",
    "# runs_df.to_csv(\"project.csv\")"
   ]
  },
  {
   "cell_type": "code",
   "execution_count": null,
   "id": "39efbc65",
   "metadata": {},
   "outputs": [],
   "source": [
    "runs_df[\"total_val_loss\"] = runs_df[\"summary\"].apply(\n",
    "    lambda x: x.get(\"total_val_loss\", None)\n",
    ")\n",
    "# total_test_loss\n",
    "runs_df[\"total_test_loss\"] = runs_df[\"summary\"].apply(\n",
    "    lambda x: x.get(\"total_test_loss\", None)\n",
    ")\n",
    "runs_df[\"init\"] = runs_df[\"config\"].apply(\n",
    "    lambda x: x.get(\"activation_model\").get(\"init\", None)\n",
    ")"
   ]
  },
  {
   "cell_type": "code",
   "execution_count": null,
   "id": "07421056",
   "metadata": {},
   "outputs": [],
   "source": [
    "runs_df.drop(columns=[\"summary\", \"config\"], inplace=True)\n",
    "runs_df.rename(columns={\"name\": \"participant\"}, inplace=True)\n"
   ]
  },
  {
   "cell_type": "code",
   "execution_count": null,
   "id": "bc311ac5",
   "metadata": {},
   "outputs": [],
   "source": [
    "runs_df[\"total_combined_loss\"] = (\n",
    "    runs_df[\"total_val_loss\"] * 9 + runs_df[\"total_test_loss\"] * 3\n",
    ") / 12"
   ]
  },
  {
   "cell_type": "code",
   "execution_count": null,
   "id": "3ddcec70",
   "metadata": {},
   "outputs": [],
   "source": [
    "# group by participant and init, then get the mean and std of total_val_loss\n",
    "grouped_df = (\n",
    "    runs_df.groupby([\"participant\", \"init\"])\n",
    "    .agg(\n",
    "        mean_val_loss=(\"total_val_loss\", \"mean\"),\n",
    "        std_val_loss=(\"total_val_loss\", \"std\"),\n",
    "        mean_test_loss=(\"total_test_loss\", \"mean\"),\n",
    "        std_test_loss=(\"total_test_loss\", \"std\"),\n",
    "        mean_combined_loss=(\"total_combined_loss\", \"mean\"),\n",
    "        std_combined_loss=(\"total_combined_loss\", \"std\"),\n",
    "    )\n",
    "    .reset_index()\n",
    ")"
   ]
  },
  {
   "cell_type": "code",
   "execution_count": null,
   "id": "4b4ebc01",
   "metadata": {},
   "outputs": [],
   "source": [
    "grouped_df_amputee = grouped_df[grouped_df[\"participant\"].isin(amputees)].copy()\n",
    "grouped_df_intact = grouped_df[grouped_df[\"participant\"].isin(intact)].copy()"
   ]
  },
  {
   "cell_type": "code",
   "execution_count": null,
   "id": "17cedda5",
   "metadata": {},
   "outputs": [],
   "source": [
    "# average over all participants\n",
    "average_df_amputee = (\n",
    "    grouped_df_amputee.groupby(\"init\")\n",
    "    .agg(\n",
    "        mean_mean_val_loss=(\"mean_val_loss\", \"mean\"),\n",
    "        mean_std_val_loss=(\"std_val_loss\", \"mean\"),\n",
    "        mean_mean_test_loss=(\"mean_test_loss\", \"mean\"),\n",
    "        mean_std_test_loss=(\"std_test_loss\", \"mean\"),\n",
    "        mean_mean_combined_loss=(\"mean_combined_loss\", \"mean\"),\n",
    "        mean_std_combined_loss=(\"std_combined_loss\", \"mean\"),\n",
    "    )\n",
    "    .reset_index()\n",
    ")\n",
    "average_df_intact = (\n",
    "    grouped_df_intact.groupby(\"init\")\n",
    "    .agg(\n",
    "        mean_mean_val_loss=(\"mean_val_loss\", \"mean\"),\n",
    "        mean_std_val_loss=(\"std_val_loss\", \"mean\"),\n",
    "        mean_mean_test_loss=(\"mean_test_loss\", \"mean\"),\n",
    "        mean_std_test_loss=(\"std_test_loss\", \"mean\"),\n",
    "        mean_mean_combined_loss=(\"mean_combined_loss\", \"mean\"),\n",
    "        mean_std_combined_loss=(\"std_combined_loss\", \"mean\"),\n",
    "    )\n",
    "    .reset_index()\n",
    ")"
   ]
  },
  {
   "cell_type": "code",
   "execution_count": null,
   "id": "05167d7e",
   "metadata": {},
   "outputs": [],
   "source": [
    "average_df_intact.index = average_df_intact[\"init\"]\n",
    "average_df_amputee.index = average_df_amputee[\"init\"]\n",
    "average_df_intact.drop(columns=[\"init\"], inplace=True)\n",
    "average_df_amputee.drop(columns=[\"init\"], inplace=True)"
   ]
  },
  {
   "cell_type": "code",
   "execution_count": null,
   "id": "65a2cdc8",
   "metadata": {},
   "outputs": [],
   "source": [
    "# round to 3 decimal places\n",
    "average_df_amputee = average_df_amputee.round(3)\n",
    "average_df_intact = average_df_intact.round(3)"
   ]
  },
  {
   "cell_type": "code",
   "execution_count": null,
   "id": "8ea90694",
   "metadata": {},
   "outputs": [],
   "source": [
    "# transpose the dataframes\n",
    "average_df_amputee = average_df_amputee.T\n",
    "average_df_intact = average_df_intact.T"
   ]
  },
  {
   "cell_type": "code",
   "execution_count": null,
   "id": "38adfb7e",
   "metadata": {},
   "outputs": [],
   "source": [
    "# Move the distinction between mean and std to the column names\n",
    "# The new columns will be MultiIndex: (Initialization_method, Statistic)\n",
    "new_df = pd.DataFrame(\n",
    "    index=pd.MultiIndex.from_product(\n",
    "        [[\"Combined\", \"New Movements\", \"Known Movements\"], [\"Intact\", \"Amputation\"]],\n",
    "        names=[\"Data Set\", \"Cohort\"],\n",
    "    ),\n",
    "    columns=pd.MultiIndex.from_product(\n",
    "        [average_df_amputee.columns, [\"mean\", \"std\"]],\n",
    "        names=[\"Initialization_method\", \"Statistic\"],\n",
    "    ),\n",
    ")\n",
    "new_df\n"
   ]
  },
  {
   "cell_type": "code",
   "execution_count": null,
   "id": "b5c8a1b4",
   "metadata": {},
   "outputs": [],
   "source": [
    "for column in average_df_amputee.columns:\n",
    "    new_df.loc[(\"Combined\", \"Amputation\"), (column, \"mean\")] = average_df_amputee.loc[\n",
    "        \"mean_mean_combined_loss\", column\n",
    "    ]\n",
    "    new_df.loc[(\"Combined\", \"Amputation\"), (column, \"std\")] = average_df_amputee.loc[\n",
    "        \"mean_std_combined_loss\", column\n",
    "    ]\n",
    "    new_df.loc[(\"New Movements\", \"Amputation\"), (column, \"mean\")] = (\n",
    "        average_df_amputee.loc[\"mean_mean_test_loss\", column]\n",
    "    )\n",
    "    new_df.loc[(\"New Movements\", \"Amputation\"), (column, \"std\")] = (\n",
    "        average_df_amputee.loc[\"mean_std_test_loss\", column]\n",
    "    )\n",
    "    new_df.loc[(\"Known Movements\", \"Amputation\"), (column, \"mean\")] = (\n",
    "        average_df_amputee.loc[\"mean_mean_val_loss\", column]\n",
    "    )\n",
    "    new_df.loc[(\"Known Movements\", \"Amputation\"), (column, \"std\")] = (\n",
    "        average_df_amputee.loc[\"mean_std_val_loss\", column]\n",
    "    )\n",
    "for column in average_df_intact.columns:\n",
    "    new_df.loc[(\"Combined\", \"Intact\"), (column, \"mean\")] = average_df_intact.loc[\n",
    "        \"mean_mean_combined_loss\", column\n",
    "    ]\n",
    "    new_df.loc[(\"Combined\", \"Intact\"), (column, \"std\")] = average_df_intact.loc[\n",
    "        \"mean_std_combined_loss\", column\n",
    "    ]\n",
    "    new_df.loc[(\"New Movements\", \"Intact\"), (column, \"mean\")] = average_df_intact.loc[\n",
    "        \"mean_mean_test_loss\", column\n",
    "    ]\n",
    "    new_df.loc[(\"New Movements\", \"Intact\"), (column, \"std\")] = average_df_intact.loc[\n",
    "        \"mean_std_test_loss\", column\n",
    "    ]\n",
    "    new_df.loc[(\"Known Movements\", \"Intact\"), (column, \"mean\")] = average_df_intact.loc[\n",
    "        \"mean_mean_val_loss\", column\n",
    "    ]\n",
    "    new_df.loc[(\"Known Movements\", \"Intact\"), (column, \"std\")] = average_df_intact.loc[\n",
    "        \"mean_std_val_loss\", column\n",
    "    ]"
   ]
  },
  {
   "cell_type": "code",
   "execution_count": null,
   "id": "6d50f5f1",
   "metadata": {},
   "outputs": [],
   "source": [
    "# reorder Initialization_method: [default_all, default_0, default, kaiming_normal, xavier_normal, orthogonal]\n",
    "new_df = new_df.reindex(\n",
    "    columns=[\n",
    "        (\"default_all\", \"mean\"),\n",
    "        (\"default_all\", \"std\"),\n",
    "        (\"default_0\", \"mean\"),\n",
    "        (\"default_0\", \"std\"),\n",
    "        (\"default\", \"mean\"),\n",
    "        (\"default\", \"std\"),\n",
    "        (\"kaiming_normal\", \"mean\"),\n",
    "        (\"kaiming_normal\", \"std\"),\n",
    "        (\"xavier_normal\", \"mean\"),\n",
    "        (\"xavier_normal\", \"std\"),\n",
    "        (\"orthogonal\", \"mean\"),\n",
    "        (\"orthogonal\", \"std\"),\n",
    "    ]\n",
    ")\n"
   ]
  },
  {
   "cell_type": "code",
   "execution_count": null,
   "id": "4884dc89",
   "metadata": {},
   "outputs": [],
   "source": [
    "new_df.to_csv(paper_plots_path / \"initialization_experiment_results.csv\")"
   ]
  },
  {
   "cell_type": "code",
   "execution_count": null,
   "id": "d4a40e69",
   "metadata": {},
   "outputs": [],
   "source": [
    "# replace this: [default_all, default_0, default, kaiming_normal, xavier_normal, orthogonal]\n",
    "# with a multi_index:\n",
    "# LeakyReLu Initialization: [Default, Default, Default, Kaiming Normal, Xavier Normal, Orthogonal]\n",
    "# Sigmoid Initialization: [Default, Default, Xavier Normal, Xavier Normal, Xavier Normal, Xavier Normal]\n",
    "# Bias Initialization: [Default, Zero, Zero, Zero, Zero, Zero]\n"
   ]
  },
  {
   "cell_type": "code",
   "execution_count": null,
   "id": "4f784162",
   "metadata": {},
   "outputs": [],
   "source": [
    "new_df"
   ]
  },
  {
   "cell_type": "code",
   "execution_count": null,
   "id": "6b231ccb",
   "metadata": {},
   "outputs": [],
   "source": []
  }
 ],
 "metadata": {
  "kernelspec": {
   "display_name": "PCP",
   "language": "python",
   "name": "python3"
  },
  "language_info": {
   "codemirror_mode": {
    "name": "ipython",
    "version": 3
   },
   "file_extension": ".py",
   "mimetype": "text/x-python",
   "name": "python",
   "nbconvert_exporter": "python",
   "pygments_lexer": "ipython3",
   "version": "3.8.20"
  }
 },
 "nbformat": 4,
 "nbformat_minor": 5
}
