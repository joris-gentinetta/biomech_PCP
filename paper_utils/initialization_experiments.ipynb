{
 "cells": [
  {
   "cell_type": "code",
   "execution_count": null,
   "id": "64ad9368",
   "metadata": {},
   "outputs": [],
   "source": [
    "from pathlib import Path\n",
    "\n",
    "import yaml\n",
    "from deepdiff import DeepDiff"
   ]
  },
  {
   "cell_type": "code",
   "execution_count": null,
   "id": "beded93d",
   "metadata": {},
   "outputs": [],
   "source": [
    "paper_plots_path = Path(\"/Users/jorisg/Desktop/upper_limb/paper_figures_revision\")\n",
    "\n",
    "intact = [\n",
    "    \"P_149\",\n",
    "    \"P_238\",\n",
    "    \"P_407\",\n",
    "    \"P_426\",\n",
    "    \"P_577\",\n",
    "    \"P_668\",\n",
    "    \"P_711\",\n",
    "    \"P_950\",\n",
    "]\n",
    "amputees = [\"P7_453\", \"P6_820\"]\n",
    "participants = intact + amputees\n",
    "targets = [\n",
    "    \"indexAng\",\n",
    "    \"midAng\",\n",
    "    \"ringAng\",\n",
    "    \"pinkyAng\",\n",
    "    \"thumbInPlaneAng\",\n",
    "    \"thumbOutPlaneAng\",\n",
    "    \"wristFlex\",\n",
    "]\n",
    "recordings = [\n",
    "    \"thumbFlEx\",\n",
    "    \"thumbAbAd\",\n",
    "    \"indexFlEx\",\n",
    "    \"mrpFlEx\",\n",
    "    \"fingersFlEx\",\n",
    "    \"wristFlEx\",\n",
    "    \"handOpCl\",\n",
    "    \"pinchOpCl\",\n",
    "    \"pointOpCl\",\n",
    "]\n",
    "test_recordings = [\"keyOpCl\", \"wristFlHandCl\", \"indexFlDigitsEx\"]\n",
    "\n",
    "channel_names = [\n",
    "    \"FPL\",\n",
    "    \"EPL\",\n",
    "    \"FDSr\",\n",
    "    \"EIP\",\n",
    "    \"FDSh\",\n",
    "    \"EDC\",\n",
    "    \"FCU\",\n",
    "    \"ECU\",\n",
    "]"
   ]
  },
  {
   "cell_type": "code",
   "execution_count": null,
   "id": "7fc1d515",
   "metadata": {},
   "outputs": [],
   "source": [
    "base_path = Path(\"data/P_149/configs/modular.yaml\")\n",
    "with open(base_path, \"r\") as f:\n",
    "    base_config = yaml.safe_load(f)\n",
    "\n",
    "all_configs = [Path(f\"data/{p}/configs/modular.yaml\") for p in participants]\n",
    "all_configs = [Path(p) for p in all_configs if Path(p) != base_path]\n",
    "\n",
    "for config_path in all_configs:\n",
    "    with open(config_path, \"r\") as f:\n",
    "        other_config = yaml.safe_load(f)\n",
    "    diff = DeepDiff(base_config, other_config, ignore_order=True)\n",
    "    print(f\"\\n--- Differences with {config_path} ---\")\n",
    "    if diff:\n",
    "        print(diff)\n",
    "    else:\n",
    "        print(\"No differences.\")"
   ]
  },
  {
   "cell_type": "markdown",
   "id": "c5d5a7e7",
   "metadata": {},
   "source": [
    "-> P7_453 is Right, all others are Left\n"
   ]
  },
  {
   "cell_type": "code",
   "execution_count": null,
   "id": "621b1500",
   "metadata": {},
   "outputs": [],
   "source": [
    "def copy_initialization_config(participants, base_path):\n",
    "    base_config_path = Path(base_path)\n",
    "    with open(base_config_path, \"r\") as f:\n",
    "        base_config = yaml.safe_load(f)\n",
    "\n",
    "    for participant in participants:\n",
    "        participant_config_path = Path(\n",
    "            f\"data/{participant}/configs/modular_initialization.yaml\"\n",
    "        )\n",
    "        if not participant_config_path.exists():\n",
    "            # Create the directory if it doesn't exist\n",
    "            # participant_config_path.parent.mkdir(parents=True, exist_ok=True)\n",
    "            # Modify the base config for the current participant\n",
    "            base_config[\"name\"] = participant\n",
    "            with open(participant_config_path, \"w\") as f:\n",
    "                yaml.dump(base_config, f)\n",
    "            print(f\"Copied config to {participant_config_path}\")\n",
    "\n",
    "\n",
    "copy_initialization_config(\n",
    "    participants, \"data/<person_ID>/configs/modular_initialization.yaml\"\n",
    ")\n",
    "# TODO: change the targets for P7_453 to right"
   ]
  },
  {
   "cell_type": "code",
   "execution_count": null,
   "id": "dd7a69c7",
   "metadata": {},
   "outputs": [],
   "source": [
    "import subprocess\n",
    "\n",
    "for participant in participants:\n",
    "    hand = \"Right\" if participant == \"P7_453\" else \"Left\"\n",
    "    print(f\"Running training for {participant} with intact hand {hand}\")\n",
    "\n",
    "    # Run the command using subprocess\n",
    "    subprocess.run(\n",
    "        [\n",
    "            \"python\",\n",
    "            \"s4_train.py\",\n",
    "            \"--person_dir\",\n",
    "            participant,\n",
    "            \"--intact_hand\",\n",
    "            hand,\n",
    "            \"--config_name\",\n",
    "            \"modular_initialization\",\n",
    "            \"-hs\",\n",
    "        ]\n",
    "    )"
   ]
  },
  {
   "cell_type": "code",
   "execution_count": null,
   "id": "a4ce18be",
   "metadata": {},
   "outputs": [],
   "source": [
    "import pandas as pd\n",
    "\n",
    "import wandb\n",
    "\n",
    "api = wandb.Api()\n",
    "\n",
    "# Project is specified by <entity/project-name>\n",
    "runs = api.runs(\"MIT_biomech/initialization_experiments\")\n",
    "\n",
    "summary_list, config_list, name_list = [], [], []\n",
    "for run in runs:\n",
    "    # .summary contains the output keys/values for metrics like accuracy.\n",
    "    #  We call ._json_dict to omit large files\n",
    "    summary_list.append(run.summary._json_dict)\n",
    "\n",
    "    # .config contains the hyperparameters.\n",
    "    #  We remove special values that start with _.\n",
    "    config_list.append({k: v for k, v in run.config.items() if not k.startswith(\"_\")})\n",
    "\n",
    "    # .name is the human-readable name of the run.\n",
    "    name_list.append(run.name)\n",
    "\n",
    "runs_df = pd.DataFrame(\n",
    "    {\"summary\": summary_list, \"config\": config_list, \"name\": name_list}\n",
    ")\n",
    "\n",
    "# runs_df.to_csv(\"project.csv\")"
   ]
  },
  {
   "cell_type": "code",
   "execution_count": null,
   "id": "39efbc65",
   "metadata": {},
   "outputs": [],
   "source": [
    "runs_df[\"total_val_loss\"] = runs_df[\"summary\"].apply(\n",
    "    lambda x: x.get(\"total_val_loss\", None)\n",
    ")\n",
    "# total_test_loss\n",
    "runs_df[\"total_test_loss\"] = runs_df[\"summary\"].apply(\n",
    "    lambda x: x.get(\"total_test_loss\", None)\n",
    ")\n",
    "runs_df[\"init\"] = runs_df[\"config\"].apply(\n",
    "    lambda x: x.get(\"activation_model\").get(\"init\", None)\n",
    ")"
   ]
  },
  {
   "cell_type": "code",
   "execution_count": null,
   "id": "07421056",
   "metadata": {},
   "outputs": [],
   "source": [
    "runs_df.drop(columns=[\"summary\", \"config\"], inplace=True)\n",
    "runs_df.rename(columns={\"name\": \"participant\"}, inplace=True)"
   ]
  },
  {
   "cell_type": "code",
   "execution_count": null,
   "id": "bc311ac5",
   "metadata": {},
   "outputs": [],
   "source": [
    "runs_df[\"total_combined_loss\"] = (\n",
    "    runs_df[\"total_val_loss\"] * 9 + runs_df[\"total_test_loss\"] * 3\n",
    ") / 12"
   ]
  },
  {
   "cell_type": "code",
   "execution_count": null,
   "id": "3ddcec70",
   "metadata": {},
   "outputs": [],
   "source": [
    "# group by participant and init, then get the mean and std of total_val_loss\n",
    "grouped_df = (\n",
    "    runs_df.groupby([\"participant\", \"init\"])\n",
    "    .agg(\n",
    "        mean_val_loss=(\"total_val_loss\", \"mean\"),\n",
    "        std_val_loss=(\"total_val_loss\", \"std\"),\n",
    "        mean_test_loss=(\"total_test_loss\", \"mean\"),\n",
    "        std_test_loss=(\"total_test_loss\", \"std\"),\n",
    "        mean_combined_loss=(\"total_combined_loss\", \"mean\"),\n",
    "        std_combined_loss=(\"total_combined_loss\", \"std\"),\n",
    "    )\n",
    "    .reset_index()\n",
    ")"
   ]
  },
  {
   "cell_type": "code",
   "execution_count": null,
   "id": "4b4ebc01",
   "metadata": {},
   "outputs": [],
   "source": [
    "grouped_df_amputee = grouped_df[grouped_df[\"participant\"].isin(amputees)].copy()\n",
    "grouped_df_intact = grouped_df[grouped_df[\"participant\"].isin(intact)].copy()"
   ]
  },
  {
   "cell_type": "code",
   "execution_count": null,
   "id": "17cedda5",
   "metadata": {},
   "outputs": [],
   "source": [
    "# average over all participants\n",
    "average_df_amputee = (\n",
    "    grouped_df_amputee.groupby(\"init\")\n",
    "    .agg(\n",
    "        mean_mean_val_loss=(\"mean_val_loss\", \"mean\"),\n",
    "        mean_std_val_loss=(\"std_val_loss\", \"mean\"),\n",
    "        mean_mean_test_loss=(\"mean_test_loss\", \"mean\"),\n",
    "        mean_std_test_loss=(\"std_test_loss\", \"mean\"),\n",
    "        mean_mean_combined_loss=(\"mean_combined_loss\", \"mean\"),\n",
    "        mean_std_combined_loss=(\"std_combined_loss\", \"mean\"),\n",
    "    )\n",
    "    .reset_index()\n",
    ")\n",
    "average_df_intact = (\n",
    "    grouped_df_intact.groupby(\"init\")\n",
    "    .agg(\n",
    "        mean_mean_val_loss=(\"mean_val_loss\", \"mean\"),\n",
    "        mean_std_val_loss=(\"std_val_loss\", \"mean\"),\n",
    "        mean_mean_test_loss=(\"mean_test_loss\", \"mean\"),\n",
    "        mean_std_test_loss=(\"std_test_loss\", \"mean\"),\n",
    "        mean_mean_combined_loss=(\"mean_combined_loss\", \"mean\"),\n",
    "        mean_std_combined_loss=(\"std_combined_loss\", \"mean\"),\n",
    "    )\n",
    "    .reset_index()\n",
    ")"
   ]
  },
  {
   "cell_type": "code",
   "execution_count": null,
   "id": "05167d7e",
   "metadata": {},
   "outputs": [],
   "source": [
    "average_df_intact.index = average_df_intact[\"init\"]\n",
    "average_df_amputee.index = average_df_amputee[\"init\"]\n",
    "average_df_intact.drop(columns=[\"init\"], inplace=True)\n",
    "average_df_amputee.drop(columns=[\"init\"], inplace=True)"
   ]
  },
  {
   "cell_type": "code",
   "execution_count": null,
   "id": "65a2cdc8",
   "metadata": {},
   "outputs": [],
   "source": [
    "# round to 3 decimal places\n",
    "average_df_amputee = average_df_amputee.round(3)\n",
    "average_df_intact = average_df_intact.round(3)"
   ]
  },
  {
   "cell_type": "code",
   "execution_count": null,
   "id": "8ea90694",
   "metadata": {},
   "outputs": [],
   "source": [
    "# transpose the dataframes\n",
    "average_df_amputee = average_df_amputee.T\n",
    "average_df_intact = average_df_intact.T"
   ]
  },
  {
   "cell_type": "code",
   "execution_count": null,
   "id": "38adfb7e",
   "metadata": {},
   "outputs": [],
   "source": [
    "# Move the distinction between mean and std to the column names\n",
    "# The new columns will be MultiIndex: (Initialization_method, Statistic)\n",
    "new_df = pd.DataFrame(\n",
    "    index=pd.MultiIndex.from_product(\n",
    "        [[\"Combined\", \"New Movements\", \"Known Movements\"], [\"Intact\", \"Amputation\"]],\n",
    "        names=[\"Data Set\", \"Cohort\"],\n",
    "    ),\n",
    "    columns=pd.MultiIndex.from_product(\n",
    "        [average_df_amputee.columns, [\"mean\", \"std\"]],\n",
    "        names=[\"Initialization_method\", \"Statistic\"],\n",
    "    ),\n",
    ")\n",
    "new_df"
   ]
  },
  {
   "cell_type": "code",
   "execution_count": null,
   "id": "b5c8a1b4",
   "metadata": {},
   "outputs": [],
   "source": [
    "for column in average_df_amputee.columns:\n",
    "    new_df.loc[(\"Combined\", \"Amputation\"), (column, \"mean\")] = average_df_amputee.loc[\n",
    "        \"mean_mean_combined_loss\", column\n",
    "    ]\n",
    "    new_df.loc[(\"Combined\", \"Amputation\"), (column, \"std\")] = average_df_amputee.loc[\n",
    "        \"mean_std_combined_loss\", column\n",
    "    ]\n",
    "    new_df.loc[(\"New Movements\", \"Amputation\"), (column, \"mean\")] = (\n",
    "        average_df_amputee.loc[\"mean_mean_test_loss\", column]\n",
    "    )\n",
    "    new_df.loc[(\"New Movements\", \"Amputation\"), (column, \"std\")] = (\n",
    "        average_df_amputee.loc[\"mean_std_test_loss\", column]\n",
    "    )\n",
    "    new_df.loc[(\"Known Movements\", \"Amputation\"), (column, \"mean\")] = (\n",
    "        average_df_amputee.loc[\"mean_mean_val_loss\", column]\n",
    "    )\n",
    "    new_df.loc[(\"Known Movements\", \"Amputation\"), (column, \"std\")] = (\n",
    "        average_df_amputee.loc[\"mean_std_val_loss\", column]\n",
    "    )\n",
    "for column in average_df_intact.columns:\n",
    "    new_df.loc[(\"Combined\", \"Intact\"), (column, \"mean\")] = average_df_intact.loc[\n",
    "        \"mean_mean_combined_loss\", column\n",
    "    ]\n",
    "    new_df.loc[(\"Combined\", \"Intact\"), (column, \"std\")] = average_df_intact.loc[\n",
    "        \"mean_std_combined_loss\", column\n",
    "    ]\n",
    "    new_df.loc[(\"New Movements\", \"Intact\"), (column, \"mean\")] = average_df_intact.loc[\n",
    "        \"mean_mean_test_loss\", column\n",
    "    ]\n",
    "    new_df.loc[(\"New Movements\", \"Intact\"), (column, \"std\")] = average_df_intact.loc[\n",
    "        \"mean_std_test_loss\", column\n",
    "    ]\n",
    "    new_df.loc[(\"Known Movements\", \"Intact\"), (column, \"mean\")] = average_df_intact.loc[\n",
    "        \"mean_mean_val_loss\", column\n",
    "    ]\n",
    "    new_df.loc[(\"Known Movements\", \"Intact\"), (column, \"std\")] = average_df_intact.loc[\n",
    "        \"mean_std_val_loss\", column\n",
    "    ]"
   ]
  },
  {
   "cell_type": "code",
   "execution_count": null,
   "id": "6d50f5f1",
   "metadata": {},
   "outputs": [],
   "source": [
    "# reorder Initialization_method: [default_all, default_0, default, kaiming_normal, xavier_normal, orthogonal]\n",
    "new_df = new_df.reindex(\n",
    "    columns=[\n",
    "        (\"default_all\", \"mean\"),\n",
    "        (\"default_all\", \"std\"),\n",
    "        (\"default_0\", \"mean\"),\n",
    "        (\"default_0\", \"std\"),\n",
    "        (\"default\", \"mean\"),\n",
    "        (\"default\", \"std\"),\n",
    "        (\"kaiming_normal\", \"mean\"),\n",
    "        (\"kaiming_normal\", \"std\"),\n",
    "        (\"xavier_normal\", \"mean\"),\n",
    "        (\"xavier_normal\", \"std\"),\n",
    "        (\"orthogonal\", \"mean\"),\n",
    "        (\"orthogonal\", \"std\"),\n",
    "    ]\n",
    ")"
   ]
  },
  {
   "cell_type": "code",
   "execution_count": null,
   "id": "4884dc89",
   "metadata": {},
   "outputs": [],
   "source": [
    "new_df.to_csv(paper_plots_path / \"initialization_experiment_results.csv\")"
   ]
  },
  {
   "cell_type": "code",
   "execution_count": null,
   "id": "d4a40e69",
   "metadata": {},
   "outputs": [],
   "source": [
    "# replace this: [default_all, default_0, default, kaiming_normal, xavier_normal, orthogonal]\n",
    "# with a multi_index:\n",
    "# LeakyReLu Initialization: [Default, Default, Default, Kaiming Normal, Xavier Normal, Orthogonal]\n",
    "# Sigmoid Initialization: [Default, Default, Xavier Normal, Xavier Normal, Xavier Normal, Xavier Normal]\n",
    "# Bias Initialization: [Default, Zero, Zero, Zero, Zero, Zero]\n"
   ]
  },
  {
   "cell_type": "code",
   "execution_count": null,
   "id": "4f784162",
   "metadata": {},
   "outputs": [],
   "source": [
    "new_df"
   ]
  },
  {
   "cell_type": "code",
   "execution_count": null,
   "id": "6b231ccb",
   "metadata": {},
   "outputs": [],
   "source": []
  }
 ],
 "metadata": {
  "kernelspec": {
   "display_name": "PCP",
   "language": "python",
   "name": "python3"
  },
  "language_info": {
   "codemirror_mode": {
    "name": "ipython",
    "version": 3
   },
   "file_extension": ".py",
   "mimetype": "text/x-python",
   "name": "python",
   "nbconvert_exporter": "python",
   "pygments_lexer": "ipython3",
   "version": "3.8.20"
  }
 },
 "nbformat": 4,
 "nbformat_minor": 5
}
