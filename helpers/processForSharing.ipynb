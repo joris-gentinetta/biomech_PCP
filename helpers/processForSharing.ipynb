{
 "cells": [
  {
   "cell_type": "code",
   "execution_count": 21,
   "id": "9349f309bdc858f9",
   "metadata": {
    "ExecuteTime": {
     "end_time": "2024-09-20T15:54:14.173492Z",
     "start_time": "2024-09-20T15:54:14.169814Z"
    },
    "collapsed": true
   },
   "outputs": [],
   "source": [
    "import os\n",
    "import shutil"
   ]
  },
  {
   "cell_type": "code",
   "execution_count": null,
   "id": "fd5ca705d6f53aac",
   "metadata": {
    "ExecuteTime": {
     "end_time": "2024-09-20T16:13:57.279858Z",
     "start_time": "2024-09-20T16:13:57.244883Z"
    }
   },
   "outputs": [],
   "source": [
    "dataFol = \"/home/haptix/Downloads/intactData\"\n",
    "\n",
    "for fol in os.listdir(dataFol):\n",
    "    thisFol = f\"{dataFol}/{fol}\"\n",
    "    if os.path.isdir(thisFol):\n",
    "        for file in os.listdir(thisFol):\n",
    "            userFol = f\"{thisFol}/{file}\"\n",
    "            if os.path.isdir(userFol):\n",
    "                configFol = f\"{userFol}/configs\"\n",
    "                recordFol = f\"{userFol}/recordings\"\n",
    "\n",
    "                for subFile in os.listdir(userFol):\n",
    "                    if subFile not in [\"configs\", \"recordings\"]:\n",
    "                        try:\n",
    "                            os.remove(f\"{userFol}/{subFile}\")\n",
    "                        except IsADirectoryError:\n",
    "                            shutil.rmtree(f\"{userFol}/{subFile}\")\n",
    "\n",
    "                for subFile in os.listdir(configFol):\n",
    "                    if subFile not in [\"EtE.yaml\", \"modular.yaml\"]:\n",
    "                        os.remove(f\"{configFol}/{subFile}\")\n",
    "\n",
    "                for recDir in os.listdir(recordFol):\n",
    "                    recName = f\"{recordFol}/{recDir}\"\n",
    "                    for recFiles in os.listdir(recName):\n",
    "                        if not os.path.isdir(\n",
    "                            f\"{recName}/{recFiles}\"\n",
    "                        ) or recFiles.endswith(\".mp4\"):\n",
    "                            os.remove(f\"{recName}/{recFiles}\")\n",
    "                        else:\n",
    "                            for subFile in os.listdir(f\"{recName}/{recFiles}/1\"):\n",
    "                                filesToKeep = [\n",
    "                                    \"cropped_emg.npy\",\n",
    "                                    \"cropped_aligned_emg.npy\",\n",
    "                                    \"cropped_smooth_angles.parquet\",\n",
    "                                    f\"pred_angles-{file}.parquet\",\n",
    "                                ]\n",
    "                                if subFile not in filesToKeep:\n",
    "                                    os.remove(f\"{recName}/{recFiles}/1/{subFile}\")\n",
    "\n",
    "            else:\n",
    "                os.remove(userFol)"
   ]
  }
 ],
 "metadata": {
  "kernelspec": {
   "display_name": "Python 3",
   "language": "python",
   "name": "python3"
  },
  "language_info": {
   "codemirror_mode": {
    "name": "ipython",
    "version": 2
   },
   "file_extension": ".py",
   "mimetype": "text/x-python",
   "name": "python",
   "nbconvert_exporter": "python",
   "pygments_lexer": "ipython2",
   "version": "2.7.6"
  }
 },
 "nbformat": 4,
 "nbformat_minor": 5
}
