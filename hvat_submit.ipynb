{
 "cells": [
  {
   "cell_type": "markdown",
   "metadata": {},
   "source": [
    "# Submit Predictions\n",
    "\n",
    "This notebook shows how to prepare a submission of your model's predictions on the test data for the computation."
   ]
  },
  {
   "cell_type": "code",
   "metadata": {
    "ExecuteTime": {
     "end_time": "2024-07-21T22:11:49.982332Z",
     "start_time": "2024-07-21T22:11:49.978623Z"
    }
   },
   "source": [
    "import os\n",
    "import sys\n",
    "sys.path.insert(1, os.path.realpath(os.path.pardir))\n",
    "\n",
    "from pathlib import Path\n",
    "from natsort import natsorted\n",
    "import numpy as np\n",
    "import torch \n",
    "import pandas as pd\n",
    "\n",
    "# LEFT_TO_RIGHT_HAND = [6, 5, 4, 3, 2, 1, 0, 7]\n"
   ],
   "outputs": [],
   "execution_count": 10
  },
  {
   "cell_type": "markdown",
   "metadata": {},
   "source": [
    "## Load pre-trained model\n",
    "\n",
    "This code loads the pre-trained baseline model - might be different for your model."
   ]
  },
  {
   "cell_type": "code",
   "metadata": {
    "ExecuteTime": {
     "end_time": "2024-07-21T22:11:51.457541Z",
     "start_time": "2024-07-21T22:11:51.433923Z"
    }
   },
   "source": [
    "import wandb\n",
    "from os.path import join\n",
    "import yaml\n",
    "from helpers.predict_utils import Config\n",
    "from helpers.models import TimeSeriesRegressorWrapper\n",
    "import torch\n",
    "\n",
    "\n",
    "device = torch.device('cpu')\n",
    "wandb_mode = 'disabled'\n",
    "wandb_project = 'hvat'\n",
    "wandb_name = 'SL-2'\n",
    "with open(join('data', 'A_1', 'configs', f'hvat.yaml'), 'r') as file:\n",
    "    wandb_config = yaml.safe_load(file)\n",
    "    config = Config(wandb_config)\n",
    "with wandb.init(mode=wandb_mode, project=wandb_project, name=wandb_name, config=config):\n",
    "    config = wandb.config\n",
    "\n",
    "model = TimeSeriesRegressorWrapper(device=device, input_size=len(config.features), output_size=len(config.targets), **config)\n",
    "model.to(device)\n",
    "\n",
    "model.load('/Users/jg/projects/biomech/biomech_PCP/data/hvat/models/SL-2.pt')\n",
    "\n",
    "inv_model = TimeSeriesRegressorWrapper(device=device, input_size=len(config.features), output_size=len(config.targets), **config)\n",
    "inv_model.to(device)\n",
    "\n",
    "inv_model.load('/Users/jg/projects/biomech/biomech_PCP/data/hvat/models/SL-2_inverted.pt')           "
   ],
   "outputs": [
    {
     "data": {
      "text/plain": [
       "<helpers.models.TimeSeriesRegressorWrapper at 0x11285de20>"
      ]
     },
     "execution_count": 11,
     "metadata": {},
     "output_type": "execute_result"
    }
   ],
   "execution_count": 11
  },
  {
   "cell_type": "markdown",
   "metadata": {},
   "source": [
    "### Save `submission.cvs` file\n",
    "\n",
    "This code shows how the data was prepare and downsampled during inference. Make sure that your data is processed similarly!"
   ]
  },
  {
   "cell_type": "code",
   "metadata": {
    "ExecuteTime": {
     "end_time": "2024-07-21T22:11:52.326582Z",
     "start_time": "2024-07-21T22:11:52.322519Z"
    }
   },
   "source": [
    "DATA_PATH = Path(r\"data/hvat\")\n",
    "test_data_name = 'fedya_tropin_standart_elbow_left'  # should match `test_dataset_list` used to train the model\n",
    "\n",
    "\n",
    "data_folder = DATA_PATH / \"amputant\" / \"left\" / test_data_name / \"preproc_angles\" / \"submit\"\n",
    "all_paths = natsorted(data_folder.glob('*.npz'))\n",
    "print(f'Found {len(all_paths)} samples in {data_folder}')\n"
   ],
   "outputs": [
    {
     "name": "stdout",
     "output_type": "stream",
     "text": [
      "Found 72 samples in data/hvat/amputant/left/fedya_tropin_standart_elbow_left/preproc_angles/submit\n"
     ]
    }
   ],
   "execution_count": 12
  },
  {
   "cell_type": "code",
   "metadata": {
    "ExecuteTime": {
     "end_time": "2024-07-21T22:13:08.512189Z",
     "start_time": "2024-07-21T22:12:47.781118Z"
    }
   },
   "source": [
    "\n",
    "pred_list = []\n",
    "\n",
    "# loop over each trial\n",
    "for i, p in enumerate(all_paths):\n",
    "    # get EMG data \n",
    "    sample = np.load(p)\n",
    "    myo = sample['data_myo']\n",
    "\n",
    "    padded_myo = myo\n",
    "\n",
    "    preds = model.predictNPonly(torch.tensor(padded_myo, device=device, dtype=torch.float32).unsqueeze(0)).squeeze().cpu().numpy()\n",
    "    inv_preds = inv_model.predictNPonly(torch.tensor(np.flip(padded_myo).copy(), device=device, dtype=torch.float32).unsqueeze(0)).squeeze().cpu().numpy()\n",
    "    inv_preds = np.flip(inv_preds, axis=0).copy()\n",
    "    preds_downsampled = preds[::8]\n",
    "    inv_preds_downsampled = inv_preds[::8]\n",
    "    combined_preds = preds_downsampled.copy()\n",
    "    combined_preds[:50] = inv_preds_downsampled[:50]\n",
    "    combined_preds[50:-50] = (preds_downsampled[50:-50] + inv_preds_downsampled[50:-50]) / 2\n",
    "    print(f\"Completed {i+1}/{len(all_paths)}. Loaded data: {myo.shape} - padded to: {padded_myo.shape} - predictions {preds.shape} - downsampled to: {preds_downsampled.shape}\")\n",
    "    pred_list.append(combined_preds)\n",
    "\n",
    "pred_cat = np.concatenate(pred_list, axis=0)\n",
    "df = pd.DataFrame(pred_cat)\n",
    "df.head()\n",
    "print(df.shape)"
   ],
   "outputs": [
    {
     "name": "stdout",
     "output_type": "stream",
     "text": [
      "Completed 1/72. Loaded data: (3721, 8) - padded to: (3721, 8) - predictions (3721, 20) - downsampled to: (466, 20)\n",
      "Completed 2/72. Loaded data: (3725, 8) - padded to: (3725, 8) - predictions (3725, 20) - downsampled to: (466, 20)\n",
      "Completed 3/72. Loaded data: (3724, 8) - padded to: (3724, 8) - predictions (3724, 20) - downsampled to: (466, 20)\n",
      "Completed 4/72. Loaded data: (3724, 8) - padded to: (3724, 8) - predictions (3724, 20) - downsampled to: (466, 20)\n",
      "Completed 5/72. Loaded data: (3729, 8) - padded to: (3729, 8) - predictions (3729, 20) - downsampled to: (467, 20)\n",
      "Completed 6/72. Loaded data: (3726, 8) - padded to: (3726, 8) - predictions (3726, 20) - downsampled to: (466, 20)\n",
      "Completed 7/72. Loaded data: (3724, 8) - padded to: (3724, 8) - predictions (3724, 20) - downsampled to: (466, 20)\n",
      "Completed 8/72. Loaded data: (3728, 8) - padded to: (3728, 8) - predictions (3728, 20) - downsampled to: (466, 20)\n",
      "Completed 9/72. Loaded data: (3724, 8) - padded to: (3724, 8) - predictions (3724, 20) - downsampled to: (466, 20)\n",
      "Completed 10/72. Loaded data: (3728, 8) - padded to: (3728, 8) - predictions (3728, 20) - downsampled to: (466, 20)\n",
      "Completed 11/72. Loaded data: (3727, 8) - padded to: (3727, 8) - predictions (3727, 20) - downsampled to: (466, 20)\n",
      "Completed 12/72. Loaded data: (3728, 8) - padded to: (3728, 8) - predictions (3728, 20) - downsampled to: (466, 20)\n",
      "Completed 13/72. Loaded data: (3724, 8) - padded to: (3724, 8) - predictions (3724, 20) - downsampled to: (466, 20)\n",
      "Completed 14/72. Loaded data: (3727, 8) - padded to: (3727, 8) - predictions (3727, 20) - downsampled to: (466, 20)\n",
      "Completed 15/72. Loaded data: (3725, 8) - padded to: (3725, 8) - predictions (3725, 20) - downsampled to: (466, 20)\n",
      "Completed 16/72. Loaded data: (3724, 8) - padded to: (3724, 8) - predictions (3724, 20) - downsampled to: (466, 20)\n",
      "Completed 17/72. Loaded data: (3724, 8) - padded to: (3724, 8) - predictions (3724, 20) - downsampled to: (466, 20)\n",
      "Completed 18/72. Loaded data: (3726, 8) - padded to: (3726, 8) - predictions (3726, 20) - downsampled to: (466, 20)\n",
      "Completed 19/72. Loaded data: (3725, 8) - padded to: (3725, 8) - predictions (3725, 20) - downsampled to: (466, 20)\n",
      "Completed 20/72. Loaded data: (3726, 8) - padded to: (3726, 8) - predictions (3726, 20) - downsampled to: (466, 20)\n",
      "Completed 21/72. Loaded data: (3722, 8) - padded to: (3722, 8) - predictions (3722, 20) - downsampled to: (466, 20)\n",
      "Completed 22/72. Loaded data: (3727, 8) - padded to: (3727, 8) - predictions (3727, 20) - downsampled to: (466, 20)\n",
      "Completed 23/72. Loaded data: (3724, 8) - padded to: (3724, 8) - predictions (3724, 20) - downsampled to: (466, 20)\n",
      "Completed 24/72. Loaded data: (3724, 8) - padded to: (3724, 8) - predictions (3724, 20) - downsampled to: (466, 20)\n",
      "Completed 25/72. Loaded data: (3723, 8) - padded to: (3723, 8) - predictions (3723, 20) - downsampled to: (466, 20)\n",
      "Completed 26/72. Loaded data: (3724, 8) - padded to: (3724, 8) - predictions (3724, 20) - downsampled to: (466, 20)\n",
      "Completed 27/72. Loaded data: (3724, 8) - padded to: (3724, 8) - predictions (3724, 20) - downsampled to: (466, 20)\n",
      "Completed 28/72. Loaded data: (3727, 8) - padded to: (3727, 8) - predictions (3727, 20) - downsampled to: (466, 20)\n",
      "Completed 29/72. Loaded data: (3724, 8) - padded to: (3724, 8) - predictions (3724, 20) - downsampled to: (466, 20)\n",
      "Completed 30/72. Loaded data: (3724, 8) - padded to: (3724, 8) - predictions (3724, 20) - downsampled to: (466, 20)\n",
      "Completed 31/72. Loaded data: (3730, 8) - padded to: (3730, 8) - predictions (3730, 20) - downsampled to: (467, 20)\n",
      "Completed 32/72. Loaded data: (3726, 8) - padded to: (3726, 8) - predictions (3726, 20) - downsampled to: (466, 20)\n",
      "Completed 33/72. Loaded data: (3727, 8) - padded to: (3727, 8) - predictions (3727, 20) - downsampled to: (466, 20)\n",
      "Completed 34/72. Loaded data: (3726, 8) - padded to: (3726, 8) - predictions (3726, 20) - downsampled to: (466, 20)\n",
      "Completed 35/72. Loaded data: (3725, 8) - padded to: (3725, 8) - predictions (3725, 20) - downsampled to: (466, 20)\n",
      "Completed 36/72. Loaded data: (3728, 8) - padded to: (3728, 8) - predictions (3728, 20) - downsampled to: (466, 20)\n",
      "Completed 37/72. Loaded data: (3724, 8) - padded to: (3724, 8) - predictions (3724, 20) - downsampled to: (466, 20)\n",
      "Completed 38/72. Loaded data: (3725, 8) - padded to: (3725, 8) - predictions (3725, 20) - downsampled to: (466, 20)\n",
      "Completed 39/72. Loaded data: (3723, 8) - padded to: (3723, 8) - predictions (3723, 20) - downsampled to: (466, 20)\n",
      "Completed 40/72. Loaded data: (3724, 8) - padded to: (3724, 8) - predictions (3724, 20) - downsampled to: (466, 20)\n",
      "Completed 41/72. Loaded data: (3724, 8) - padded to: (3724, 8) - predictions (3724, 20) - downsampled to: (466, 20)\n",
      "Completed 42/72. Loaded data: (3724, 8) - padded to: (3724, 8) - predictions (3724, 20) - downsampled to: (466, 20)\n",
      "Completed 43/72. Loaded data: (3720, 8) - padded to: (3720, 8) - predictions (3720, 20) - downsampled to: (465, 20)\n",
      "Completed 44/72. Loaded data: (3726, 8) - padded to: (3726, 8) - predictions (3726, 20) - downsampled to: (466, 20)\n",
      "Completed 45/72. Loaded data: (3723, 8) - padded to: (3723, 8) - predictions (3723, 20) - downsampled to: (466, 20)\n",
      "Completed 46/72. Loaded data: (1730, 8) - padded to: (1730, 8) - predictions (1730, 20) - downsampled to: (217, 20)\n",
      "Completed 47/72. Loaded data: (1730, 8) - padded to: (1730, 8) - predictions (1730, 20) - downsampled to: (217, 20)\n",
      "Completed 48/72. Loaded data: (1732, 8) - padded to: (1732, 8) - predictions (1732, 20) - downsampled to: (217, 20)\n",
      "Completed 49/72. Loaded data: (1731, 8) - padded to: (1731, 8) - predictions (1731, 20) - downsampled to: (217, 20)\n",
      "Completed 50/72. Loaded data: (1735, 8) - padded to: (1735, 8) - predictions (1735, 20) - downsampled to: (217, 20)\n",
      "Completed 51/72. Loaded data: (1730, 8) - padded to: (1730, 8) - predictions (1730, 20) - downsampled to: (217, 20)\n",
      "Completed 52/72. Loaded data: (1729, 8) - padded to: (1729, 8) - predictions (1729, 20) - downsampled to: (217, 20)\n",
      "Completed 53/72. Loaded data: (1730, 8) - padded to: (1730, 8) - predictions (1730, 20) - downsampled to: (217, 20)\n",
      "Completed 54/72. Loaded data: (1730, 8) - padded to: (1730, 8) - predictions (1730, 20) - downsampled to: (217, 20)\n",
      "Completed 55/72. Loaded data: (1729, 8) - padded to: (1729, 8) - predictions (1729, 20) - downsampled to: (217, 20)\n",
      "Completed 56/72. Loaded data: (1734, 8) - padded to: (1734, 8) - predictions (1734, 20) - downsampled to: (217, 20)\n",
      "Completed 57/72. Loaded data: (1733, 8) - padded to: (1733, 8) - predictions (1733, 20) - downsampled to: (217, 20)\n",
      "Completed 58/72. Loaded data: (1729, 8) - padded to: (1729, 8) - predictions (1729, 20) - downsampled to: (217, 20)\n",
      "Completed 59/72. Loaded data: (1731, 8) - padded to: (1731, 8) - predictions (1731, 20) - downsampled to: (217, 20)\n",
      "Completed 60/72. Loaded data: (1731, 8) - padded to: (1731, 8) - predictions (1731, 20) - downsampled to: (217, 20)\n",
      "Completed 61/72. Loaded data: (1732, 8) - padded to: (1732, 8) - predictions (1732, 20) - downsampled to: (217, 20)\n",
      "Completed 62/72. Loaded data: (1736, 8) - padded to: (1736, 8) - predictions (1736, 20) - downsampled to: (217, 20)\n",
      "Completed 63/72. Loaded data: (1731, 8) - padded to: (1731, 8) - predictions (1731, 20) - downsampled to: (217, 20)\n",
      "Completed 64/72. Loaded data: (1732, 8) - padded to: (1732, 8) - predictions (1732, 20) - downsampled to: (217, 20)\n",
      "Completed 65/72. Loaded data: (1733, 8) - padded to: (1733, 8) - predictions (1733, 20) - downsampled to: (217, 20)\n",
      "Completed 66/72. Loaded data: (1734, 8) - padded to: (1734, 8) - predictions (1734, 20) - downsampled to: (217, 20)\n",
      "Completed 67/72. Loaded data: (1729, 8) - padded to: (1729, 8) - predictions (1729, 20) - downsampled to: (217, 20)\n",
      "Completed 68/72. Loaded data: (1727, 8) - padded to: (1727, 8) - predictions (1727, 20) - downsampled to: (216, 20)\n",
      "Completed 69/72. Loaded data: (1736, 8) - padded to: (1736, 8) - predictions (1736, 20) - downsampled to: (217, 20)\n",
      "Completed 70/72. Loaded data: (1729, 8) - padded to: (1729, 8) - predictions (1729, 20) - downsampled to: (217, 20)\n",
      "Completed 71/72. Loaded data: (1735, 8) - padded to: (1735, 8) - predictions (1735, 20) - downsampled to: (217, 20)\n",
      "Completed 72/72. Loaded data: (1735, 8) - padded to: (1735, 8) - predictions (1735, 20) - downsampled to: (217, 20)\n",
      "(26829, 20)\n"
     ]
    }
   ],
   "execution_count": 14
  },
  {
   "cell_type": "markdown",
   "metadata": {},
   "source": [
    "In addition to the predictions, your data should also include a sample id column."
   ]
  },
  {
   "cell_type": "code",
   "metadata": {
    "ExecuteTime": {
     "end_time": "2024-07-21T22:13:10.727958Z",
     "start_time": "2024-07-21T22:13:10.724239Z"
    }
   },
   "source": [
    "df.insert(0, \"sample_id\", range(1, 1 + len(df)))"
   ],
   "outputs": [],
   "execution_count": 15
  },
  {
   "cell_type": "markdown",
   "metadata": {},
   "source": [
    "Finally, save to a CSV file. This is what you'll upload to Kaggle for the competition."
   ]
  },
  {
   "cell_type": "code",
   "metadata": {
    "ExecuteTime": {
     "end_time": "2024-07-21T22:13:12.217809Z",
     "start_time": "2024-07-21T22:13:11.935987Z"
    }
   },
   "source": [
    "os.makedirs('data/hvat/submissions', exist_ok=True)\n",
    "df.to_csv('data/hvat/submissions/submit_file_4.csv', index=False)"
   ],
   "outputs": [],
   "execution_count": 16
  },
  {
   "cell_type": "code",
   "metadata": {},
   "source": [
    "df.shape"
   ],
   "outputs": [],
   "execution_count": null
  },
  {
   "metadata": {},
   "cell_type": "code",
   "outputs": [],
   "execution_count": null,
   "source": ""
  }
 ],
 "metadata": {
  "kernelspec": {
   "display_name": "omen",
   "language": "python",
   "name": "python3"
  },
  "language_info": {
   "codemirror_mode": {
    "name": "ipython",
    "version": 3
   },
   "file_extension": ".py",
   "mimetype": "text/x-python",
   "name": "python",
   "nbconvert_exporter": "python",
   "pygments_lexer": "ipython3",
   "version": "3.10.13"
  }
 },
 "nbformat": 4,
 "nbformat_minor": 2
}
