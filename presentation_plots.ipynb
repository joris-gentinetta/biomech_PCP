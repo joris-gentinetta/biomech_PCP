{
 "cells": [
  {
   "cell_type": "code",
   "id": "initial_id",
   "metadata": {
    "collapsed": true,
    "ExecuteTime": {
     "end_time": "2024-09-07T10:22:25.206448Z",
     "start_time": "2024-09-07T10:22:24.602892Z"
    }
   },
   "source": [
    "import matplotlib.pyplot as plt\n",
    "\n",
    "# Define the bar segments and colors\n",
    "bar_segments = [0.4, 0.1, 0.5]\n",
    "colors = ['grey', 'black', '#609F99']  # Adjusted teal color\n",
    "\n",
    "# Create a figure\n",
    "fig, ax = plt.subplots(figsize=(10, 2))\n",
    "\n",
    "# Plot the segments as stacked bars\n",
    "ax.barh(0, bar_segments[0], color=colors[0])\n",
    "ax.barh(0, bar_segments[1], left=bar_segments[0], color=colors[1])\n",
    "ax.barh(0, bar_segments[2], left=bar_segments[0] + bar_segments[1], color=colors[2])\n",
    "\n",
    "# Remove the axes for a cleaner look\n",
    "ax.set_axis_off()\n",
    "\n",
    "# Show the plot\n",
    "plt.show()"
   ],
   "outputs": [
    {
     "data": {
      "text/plain": [
       "<Figure size 1000x200 with 1 Axes>"
      ],
      "image/png": "[encoded data removed]"
     },
     "metadata": {},
     "output_type": "display_data"
    }
   ],
   "execution_count": 1
  },
  {
   "metadata": {},
   "cell_type": "code",
   "outputs": [],
   "execution_count": null,
   "source": "",
   "id": "68cbd4626cfe78e1"
  }
 ],
 "metadata": {
  "kernelspec": {
   "display_name": "Python 3",
   "language": "python",
   "name": "python3"
  },
  "language_info": {
   "codemirror_mode": {
    "name": "ipython",
    "version": 2
   },
   "file_extension": ".py",
   "mimetype": "text/x-python",
   "name": "python",
   "nbconvert_exporter": "python",
   "pygments_lexer": "ipython2",
   "version": "2.7.6"
  }
 },
 "nbformat": 4,
 "nbformat_minor": 5
}
