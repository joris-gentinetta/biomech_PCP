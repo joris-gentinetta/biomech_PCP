{
 "cells": [
  {
   "cell_type": "code",
   "execution_count": null,
   "id": "1e9873ca",
   "metadata": {},
   "outputs": [],
   "source": [
    "import os\n",
    "from pathlib import Path\n",
    "\n",
    "import matplotlib.pyplot as plt\n",
    "import numpy as np\n",
    "import pandas as pd\n",
    "import torch\n",
    "import wget\n",
    "import yaml\n",
    "from scipy.io import loadmat\n",
    "\n",
    "from helpers.BesselFilter import BesselFilterArr\n",
    "from helpers.EMGClass import EMG\n",
    "\n",
    "# Use Path.cwd() for notebooks instead of __file__\n",
    "DATA_DIR = Path.cwd() / \"data\"\n"
   ]
  },
  {
   "cell_type": "code",
   "execution_count": null,
   "id": "9355ade6",
   "metadata": {},
   "outputs": [],
   "source": []
  },
  {
   "cell_type": "code",
   "execution_count": null,
   "id": "ba53c710",
   "metadata": {},
   "outputs": [],
   "source": []
  },
  {
   "cell_type": "code",
   "execution_count": null,
   "id": "0a31aa15",
   "metadata": {},
   "outputs": [],
   "source": [
    "predictions = np.load(\"/Users/jorisg/projects/biomech_PCP/predictions.npy\")\n",
    "targets = np.load(\"/Users/jorisg/projects/biomech_PCP/targets.npy\")\n",
    "predictions.shape\n",
    "plt.plot(predictions[:, 3], label=\"Predictions\")\n",
    "plt.plot(targets[:, 3], label=\"Targets\")"
   ]
  },
  {
   "cell_type": "code",
   "execution_count": null,
   "id": "b60ff4da",
   "metadata": {},
   "outputs": [],
   "source": [
    "angles = pd.read_parquet(\n",
    "    Path(\n",
    "        \"/Users/jorisg/projects/biomech_PCP/data/subject_0/recordings/time_0/experiments/1/cropped_angles.parquet\"\n",
    "    )\n",
    ")\n",
    "emg = np.load(\n",
    "    Path(\n",
    "        \"/Users/jorisg/projects/biomech_PCP/data/subject_0/recordings/time_0/experiments/1/cropped_emg.npy\"\n",
    "    )\n",
    ")\n",
    "\n",
    "start, end = 5000, 10000\n",
    "plt.figure(figsize=(14, 7))\n",
    "\n",
    "# Plot all angle columns\n",
    "for col in angles.columns:\n",
    "    plt.plot(range(start, end), angles[col].iloc[start:end], label=f\"Angle: {col}\")\n",
    "\n",
    "# Plot all EMG channels\n",
    "for ch in range(emg.shape[1]):\n",
    "    plt.plot(\n",
    "        range(start, end),\n",
    "        emg[start:end, ch],\n",
    "        alpha=0.5,\n",
    "        linestyle=\"--\",\n",
    "        label=f\"EMG {ch + 1}\",\n",
    "    )\n",
    "\n",
    "plt.title(\"Angles and EMG Channels (Samples 5000-10000)\")\n",
    "plt.xlabel(\"Sample\")\n",
    "plt.ylabel(\"Value\")\n",
    "plt.legend(ncol=2, fontsize=8)\n",
    "plt.tight_layout()\n",
    "plt.show()"
   ]
  },
  {
   "cell_type": "code",
   "execution_count": null,
   "id": "a85e3210",
   "metadata": {},
   "outputs": [],
   "source": [
    "emg.max()\n"
   ]
  },
  {
   "cell_type": "code",
   "execution_count": null,
   "id": "954483e0",
   "metadata": {},
   "outputs": [],
   "source": []
  }
 ],
 "metadata": {
  "kernelspec": {
   "display_name": "PCP",
   "language": "python",
   "name": "python3"
  },
  "language_info": {
   "codemirror_mode": {
    "name": "ipython",
    "version": 3
   },
   "file_extension": ".py",
   "mimetype": "text/x-python",
   "name": "python",
   "nbconvert_exporter": "python",
   "pygments_lexer": "ipython3",
   "version": "3.8.20"
  }
 },
 "nbformat": 4,
 "nbformat_minor": 5
}
