{
 "cells": [
  {
   "cell_type": "code",
   "execution_count": null,
   "id": "e4b048b5",
   "metadata": {},
   "outputs": [],
   "source": []
  },
  {
   "cell_type": "code",
   "execution_count": null,
   "id": "64ad9368",
   "metadata": {},
   "outputs": [],
   "source": [
    "import glob\n",
    "from pathlib import Path\n",
    "\n",
    "import yaml\n",
    "from deepdiff import DeepDiff\n",
    "\n",
    "base_path = Path(\"data/P_149/configs/modular.yaml\")\n",
    "with open(base_path, \"r\") as f:\n",
    "    base_config = yaml.safe_load(f)\n",
    "\n",
    "# Find all modular.yaml files in data/*/configs/\n",
    "all_configs = [\n",
    "    Path(f\"data/{p}/configs/modular.yaml\")\n",
    "    for p in participants\n",
    "    if Path(f\"data/{p}/configs/modular.yaml\") != base_path\n",
    "    and Path(f\"data/{p}/configs/modular.yaml\").exists()\n",
    "]\n",
    "all_configs = [Path(p) for p in all_configs if Path(p) != base_path]\n",
    "\n",
    "for config_path in all_configs:\n",
    "    with open(config_path, \"r\") as f:\n",
    "        other_config = yaml.safe_load(f)\n",
    "    diff = DeepDiff(base_config, other_config, ignore_order=True)\n",
    "    print(f\"\\n--- Differences with {config_path} ---\")\n",
    "    if diff:\n",
    "        print(diff)\n",
    "    else:\n",
    "        print(\"No differences.\")"
   ]
  },
  {
   "cell_type": "code",
   "execution_count": null,
   "id": "6a25349e",
   "metadata": {},
   "outputs": [],
   "source": [
    "for participant in participants:\n",
    "    if participant not in os.listdir(\"/Users/jorisg/projects/biomech_PCP/data\"):\n",
    "        print(f\"Participant {participant} not found in data directory.\")\n",
    "\n",
    "for participant in os.listdir(\"/Users/jorisg/projects/biomech_PCP/data\"):\n",
    "    if participant.startswith(\"P_\") and participant not in participants:\n",
    "        print(\n",
    "            f\"Participant {participant} is not in the predefined list of participants.\"\n",
    "        )\n",
    "\n",
    "# Check if all participants have the same number of features"
   ]
  },
  {
   "cell_type": "code",
   "execution_count": null,
   "id": "621b1500",
   "metadata": {},
   "outputs": [],
   "source": [
    "# copy /Users/jorisg/projects/biomech_PCP/data/P_149/configs/modular_initialization.yaml to all participants, change\n",
    "# the first line from \"name: P_149\" to \"name: {participant}\"\n",
    "from pathlib import Path\n",
    "import yaml\n",
    "\n",
    "\n",
    "def copy_initialization_config(participants, base_path):\n",
    "    base_config_path = Path(base_path)\n",
    "    with open(base_config_path, \"r\") as f:\n",
    "        base_config = yaml.safe_load(f)\n",
    "\n",
    "    for participant in participants:\n",
    "        participant_config_path = Path(\n",
    "            f\"data/{participant}/configs/modular_initialization.yaml\"\n",
    "        )\n",
    "        if not participant_config_path.exists():\n",
    "            # Create the directory if it doesn't exist\n",
    "            # participant_config_path.parent.mkdir(parents=True, exist_ok=True)\n",
    "            # Modify the base config for the current participant\n",
    "            base_config[\"name\"] = participant\n",
    "            with open(participant_config_path, \"w\") as f:\n",
    "                yaml.dump(base_config, f)\n",
    "            print(f\"Copied config to {participant_config_path}\")\n",
    "\n",
    "\n",
    "copy_initialization_config(\n",
    "    participants, \"data/P_149/configs/modular_initialization.yaml\"\n",
    ")\n"
   ]
  },
  {
   "cell_type": "code",
   "execution_count": null,
   "id": "b43d236a",
   "metadata": {},
   "outputs": [],
   "source": [
    "python s4_train.py --person_dir P_149 --intact_hand Left --config_name modular_initialization -hs"
   ]
  }
 ],
 "metadata": {
  "language_info": {
   "name": "python"
  }
 },
 "nbformat": 4,
 "nbformat_minor": 5
}
